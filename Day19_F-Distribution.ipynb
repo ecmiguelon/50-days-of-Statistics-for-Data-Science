{
 "cells": [
  {
   "cell_type": "markdown",
   "metadata": {},
   "source": [
    "**F-Distribution**\n",
    "\n",
    "- The F-statistic measures this and is the ratio of the variability among the group means to the\n",
    "variability within each group (also called residual variability). \n",
    "\n",
    "- This comparison is termed an analysis of variance.\n",
    "\n",
    "- The distribution of the F-statistic is the frequency distribution of all the values that would be produced by randomly permuting data in which all the group means are equal (i.e., a null model).\n",
    "\n",
    "- There are a variety of F-distributions associated with different degrees of freedom.\n",
    "\n",
    "- The F-distribution is a continuous distribution.\n",
    "\n",
    "- The F-statistic is also used in linear regression to compare the variation accounted for by the regression model to the overall variation in the data. \n",
    "\n",
    "- The F-distribution is used with experiments and linear models involving measured data.\n",
    "\n",
    "- The F-statistic compares variation due to factors of interest to overall variation."
   ]
  }
 ],
 "metadata": {
  "language_info": {
   "name": "python"
  },
  "orig_nbformat": 4
 },
 "nbformat": 4,
 "nbformat_minor": 2
}
