{
 "cells": [
  {
   "cell_type": "markdown",
   "metadata": {},
   "source": [
    "**Key Terms:**\n",
    "\n",
    "1) Trial: An event with a discrete outcome (e.g., a coin flip).\n",
    "\n",
    "\n",
    "2) Success: The outcome of interest for a trial.\n",
    "\n",
    "       Synonym - “1” (as opposed to “0”)\n",
    "\n",
    "3) Binomial: Having two outcomes.\n",
    "\n",
    "       Synonyms- yes/no, 0/1, binary\n",
    "\n",
    "4) Binomial trial: A trial with two outcomes.\n",
    "\n",
    "       Synonym- Bernoulli trial\n",
    "\n",
    "5) Binomial distribution: Distribution of number of successes in x trials.\n",
    "\n",
    "       Synonym- Bernoulli distribution"
   ]
  },
  {
   "cell_type": "code",
   "execution_count": 1,
   "metadata": {},
   "outputs": [],
   "source": [
    "import numpy as np\n",
    "import scipy.stats as stats"
   ]
  },
  {
   "cell_type": "code",
   "execution_count": 2,
   "metadata": {},
   "outputs": [
    {
     "name": "stdout",
     "output_type": "stream",
     "text": [
      "0.001\n"
     ]
    }
   ],
   "source": [
    "# number of trials, probability of each trial\n",
    "n, p = 10, .5  \n",
    "s = np.random.binomial(n, p, 1000)\n",
    "# result of flipping a coin 10 times, tested 1000 times.\n",
    "\n",
    "#What is probablity of getting zero success in the 1000 test\n",
    "\n",
    "print(sum(s==0)/1000)"
   ]
  },
  {
   "cell_type": "markdown",
   "metadata": {},
   "source": [
    "What is Binomcdf and Binompdf?\n",
    "\n",
    "BinomPDF and BinomCDF are both functions to evaluate binomial distributions on a TI graphing calculator. Both will give you probabilities for binomial distributions. The main difference is that BinomCDF gives you cumulative probabilities."
   ]
  },
  {
   "cell_type": "code",
   "execution_count": 4,
   "metadata": {},
   "outputs": [
    {
     "name": "stdout",
     "output_type": "stream",
     "text": [
      "0.04394531249999999\n"
     ]
    }
   ],
   "source": [
    "#pmf = Probability mass function\n",
    "print(stats.binom.pmf(2, n=10, p=0.5))"
   ]
  },
  {
   "cell_type": "code",
   "execution_count": 6,
   "metadata": {},
   "outputs": [
    {
     "name": "stdout",
     "output_type": "stream",
     "text": [
      "0.054687500000000014\n"
     ]
    }
   ],
   "source": [
    "#cdf = Cumulative density function\n",
    "print(stats.binom.cdf(2, n=10, p=0.5))"
   ]
  }
 ],
 "metadata": {
  "interpreter": {
   "hash": "eb303bda2d532bd4ce610807288500639c8702ae3abc46da76342385bfb32498"
  },
  "kernelspec": {
   "display_name": "Python 3.8.8 64-bit ('ds': conda)",
   "language": "python",
   "name": "python3"
  },
  "language_info": {
   "codemirror_mode": {
    "name": "ipython",
    "version": 3
   },
   "file_extension": ".py",
   "mimetype": "text/x-python",
   "name": "python",
   "nbconvert_exporter": "python",
   "pygments_lexer": "ipython3",
   "version": "3.8.8"
  },
  "orig_nbformat": 4
 },
 "nbformat": 4,
 "nbformat_minor": 2
}
