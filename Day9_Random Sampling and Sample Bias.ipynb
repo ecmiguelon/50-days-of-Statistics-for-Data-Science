{
 "cells": [
  {
   "cell_type": "markdown",
   "metadata": {},
   "source": [
    "**KEY TERMS:**\n",
    "\n",
    "1) Sample: A subset from a larger data set.\n",
    "\n",
    "      ![Getting Started](images\\1234.png)\n",
    "\n",
    "\n",
    "2) Population: The larger data set or idea of a data set(entire dataset).\n",
    "\n",
    "\n",
    "3) N (n): The size of the population (sample).\n",
    "\n",
    "\n",
    "4) Random sampling: The process of selecting a random sample from a population.(Drawing elements \n",
    "into a sample at random.)\n",
    "\n",
    "\n",
    "5) Stratified sampling: Dividing the population into strata and randomly sampling from each strata.\n",
    "(A homogeneous subgroup of a population with common characteristics.)\n",
    "\n",
    "\n",
    "6) Simple random sample: The sample that results from random sampling without stratifying the population.\n",
    "\n",
    "\n",
    "7) Bias: Systematic error.\n",
    "\n",
    "\n",
    "\n",
    "8) Sample bias: A sample that misrepresents the population.\n",
    "\n"
   ]
  },
  {
   "cell_type": "markdown",
   "metadata": {},
   "source": [
    "1) Bias: Systematic error.\n",
    "\n",
    "**Scatterplot of shots from a gun with true aim**\n",
    "\n",
    "![Getting Started](images\\scatterplot_true_aim.png)\n",
    "\n",
    "\n",
    "**Scatterplot of shots from a gun with biased aim**\n",
    " \n",
    " ![Getting Started](images\\scatterplot_biased_aim.png)"
   ]
  }
 ],
 "metadata": {
  "interpreter": {
   "hash": "eb303bda2d532bd4ce610807288500639c8702ae3abc46da76342385bfb32498"
  },
  "kernelspec": {
   "display_name": "Python 3.8.8 64-bit ('ds': conda)",
   "language": "python",
   "name": "python3"
  },
  "language_info": {
   "codemirror_mode": {
    "name": "ipython",
    "version": 3
   },
   "file_extension": ".py",
   "mimetype": "text/x-python",
   "name": "python",
   "nbconvert_exporter": "python",
   "pygments_lexer": "ipython3",
   "version": "3.8.8"
  },
  "orig_nbformat": 4
 },
 "nbformat": 4,
 "nbformat_minor": 2
}
