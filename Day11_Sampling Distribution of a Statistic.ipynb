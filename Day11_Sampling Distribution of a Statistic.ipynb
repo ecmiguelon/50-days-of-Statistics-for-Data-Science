{
 "cells": [
  {
   "cell_type": "markdown",
   "metadata": {},
   "source": [
    "**KEY TERMS:**\n",
    "\n",
    "1) Sample statistic: A metric calculated for a sample of data drawn from a larger population.\n",
    "\n",
    "\n",
    "2) Data distribution: The frequency distribution of individual values in a data set.\n",
    "\n",
    "\n",
    "3) Sampling distribution: The frequency distribution of a sample statistic over many samples or resamples.\n",
    "\n",
    "\n",
    "4) Central limit theorem: The tendency of the sampling distribution to take on a normal shape as sample\n",
    "size rises.\n",
    "\n",
    "\n",
    "5) Standard error: The variability (standard deviation) of a sample statistic over many samples (not\n",
    "to be confused with standard deviation, which by itself, refers to variability of\n",
    "individual data values).\n"
   ]
  },
  {
   "cell_type": "code",
   "execution_count": 1,
   "metadata": {},
   "outputs": [],
   "source": [
    "#load the libraries\n",
    "import numpy as np\n",
    "import pandas as pd\n",
    "import seaborn as sns\n",
    "import matplotlib.pyplot as plt"
   ]
  },
  {
   "cell_type": "code",
   "execution_count": 2,
   "metadata": {},
   "outputs": [
    {
     "name": "stdout",
     "output_type": "stream",
     "text": [
      "(50000, 1)\n"
     ]
    },
    {
     "data": {
      "text/html": [
       "<div>\n",
       "<style scoped>\n",
       "    .dataframe tbody tr th:only-of-type {\n",
       "        vertical-align: middle;\n",
       "    }\n",
       "\n",
       "    .dataframe tbody tr th {\n",
       "        vertical-align: top;\n",
       "    }\n",
       "\n",
       "    .dataframe thead th {\n",
       "        text-align: right;\n",
       "    }\n",
       "</style>\n",
       "<table border=\"1\" class=\"dataframe\">\n",
       "  <thead>\n",
       "    <tr style=\"text-align: right;\">\n",
       "      <th></th>\n",
       "      <th>x</th>\n",
       "    </tr>\n",
       "  </thead>\n",
       "  <tbody>\n",
       "    <tr>\n",
       "      <th>0</th>\n",
       "      <td>67000</td>\n",
       "    </tr>\n",
       "    <tr>\n",
       "      <th>1</th>\n",
       "      <td>52000</td>\n",
       "    </tr>\n",
       "    <tr>\n",
       "      <th>2</th>\n",
       "      <td>100000</td>\n",
       "    </tr>\n",
       "    <tr>\n",
       "      <th>3</th>\n",
       "      <td>78762</td>\n",
       "    </tr>\n",
       "    <tr>\n",
       "      <th>4</th>\n",
       "      <td>37041</td>\n",
       "    </tr>\n",
       "  </tbody>\n",
       "</table>\n",
       "</div>"
      ],
      "text/plain": [
       "        x\n",
       "0   67000\n",
       "1   52000\n",
       "2  100000\n",
       "3   78762\n",
       "4   37041"
      ]
     },
     "execution_count": 2,
     "metadata": {},
     "output_type": "execute_result"
    }
   ],
   "source": [
    "#load the dataset\n",
    "D1 = pd.read_csv('https://raw.githubusercontent.com/gedeck/practical-statistics-for-data-scientists/master/data/loans_income.csv')\n",
    "print (D1.shape)\n",
    "D1.head()"
   ]
  },
  {
   "cell_type": "code",
   "execution_count": 6,
   "metadata": {},
   "outputs": [
    {
     "data": {
      "text/plain": [
       "Index(['x'], dtype='object')"
      ]
     },
     "execution_count": 6,
     "metadata": {},
     "output_type": "execute_result"
    }
   ],
   "source": [
    "D1.columns"
   ]
  },
  {
   "cell_type": "markdown",
   "metadata": {},
   "source": [
    "**Sampling Distribution of a Statistic:**\n",
    "\n",
    "The distribution of a sample statistic such as the mean is likely to be more regular and bell-shaped than the distribution itself.\n",
    "\n",
    "It is important to distinguish between the distribution of the individual data points, known as the data distribution, and the distribution of a sample statistic, known as the sampling distribution.\n",
    "\n"
   ]
  },
  {
   "cell_type": "code",
   "execution_count": 15,
   "metadata": {},
   "outputs": [
    {
     "name": "stdout",
     "output_type": "stream",
     "text": [
      "(1000, 1)\n",
      "(991,)\n",
      "(976,)\n",
      "(961,)\n"
     ]
    }
   ],
   "source": [
    "#Take a 1000 Samples\n",
    "samples = D1.sample(n=1000)\n",
    "print(samples.shape)\n",
    "\n",
    "#mean of 10 numbers\n",
    "sample_mean_10 = samples.rolling(10).mean().x\n",
    "sample_mean_10 = sample_mean_10.dropna()\n",
    "print(sample_mean_10.shape)\n",
    "\n",
    "#mean of 25 numbers\n",
    "sample_mean_25 = samples.rolling(25).mean().x\n",
    "sample_mean_25 = sample_mean_25.dropna()\n",
    "print(sample_mean_25.shape)\n",
    "\n",
    "# mean of 40 numbers\n",
    "sample_mean_40 = samples.rolling(40).mean().x\n",
    "sample_mean_40 = sample_mean_40.dropna()\n",
    "print(sample_mean_40.shape)"
   ]
  },
  {
   "cell_type": "code",
   "execution_count": 16,
   "metadata": {},
   "outputs": [
    {
     "data": {
      "image/png": "[encoded data removed]",
      "text/plain": [
       "<Figure size 720x720 with 4 Axes>"
      ]
     },
     "metadata": {
      "needs_background": "light"
     },
     "output_type": "display_data"
    }
   ],
   "source": [
    "fig = plt.figure(figsize=(10,10))\n",
    "#The full distribution of the plot:\n",
    "ax = fig.add_subplot(2,2,1)\n",
    "ax.hist(D1.x,bins=25)\n",
    "plt.title('Full Plot of the whole DATAFRAME')\n",
    "\n",
    "#distribution of 1000 samples:\n",
    "\n",
    "ax = fig.add_subplot(2,2,2)\n",
    "ax.hist(samples.x,bins=40)\n",
    "plt.title('Full Plot of the 1000 samples')\n",
    "\n",
    "#distribution of means of 5 numbers from 1000 samples:\n",
    "ax = fig.add_subplot(2,2,3)\n",
    "ax.hist(sample_mean_10,bins=40)\n",
    "plt.title('Plot of Rolling Mean 10 of the 1000 samples')\n",
    "\n",
    "#distribution of means of 20 numbers from 1000 samples:\n",
    "ax = fig.add_subplot(2,2,4)\n",
    "ax.hist(sample_mean_25,bins=40,label='Mean of 25')\n",
    "ax.hist(sample_mean_40,bins=40,label='Mean of 40')\n",
    "plt.title('Plot of Rolling Mean 25 and 40 of the 1000 samples')\n",
    "ax.legend()\n",
    "plt.show()\n",
    "\n",
    "plt.show()"
   ]
  },
  {
   "cell_type": "markdown",
   "metadata": {},
   "source": [
    "**Central Limit Theorem:**\n",
    "\n",
    "CLT is a phenonmenon in which the distribution tends to take a more a normal distribution as the sample size increases.\n",
    "\n",
    "Means drawn from multiple samples will resemble bell-shaped Normal curve even if the source population is not normally distributed.\n",
    "\n",
    "How to measure the variability of a sampling distribution?\n",
    "\n",
    "StandardError(SE) = s/sqrt(n)\n",
    "\n",
    "s = standard deviation\n",
    "\n",
    "n = number of samples\n",
    "\n",
    "As the sameple size increases, the standard Error decreases."
   ]
  },
  {
   "cell_type": "markdown",
   "metadata": {},
   "source": [
    "**Standard Error:**\n",
    "\n",
    "The standard error is a single metric that sums up the variability in the sampling distribution for a statistic. \n",
    "\n",
    "The standard error can be estimated using a statistic based on the standard deviation s of the sample values, and the sample size n:\n",
    "\n",
    "Standard error = SE = s/sqrt(n)\n",
    "\n"
   ]
  }
 ],
 "metadata": {
  "interpreter": {
   "hash": "7d2c2951dc40a4372c21c85253c83032b93c1aba3e6545cb56da73e1078edf46"
  },
  "kernelspec": {
   "display_name": "Python 3.9.5 64-bit ('base': conda)",
   "language": "python",
   "name": "python3"
  },
  "language_info": {
   "codemirror_mode": {
    "name": "ipython",
    "version": 3
   },
   "file_extension": ".py",
   "mimetype": "text/x-python",
   "name": "python",
   "nbconvert_exporter": "python",
   "pygments_lexer": "ipython3",
   "version": "3.8.8"
  },
  "orig_nbformat": 4
 },
 "nbformat": 4,
 "nbformat_minor": 2
}
