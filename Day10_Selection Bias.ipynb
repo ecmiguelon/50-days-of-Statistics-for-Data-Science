{
 "cells": [
  {
   "cell_type": "markdown",
   "metadata": {},
   "source": [
    "**KEY TERMS:**\n",
    "\n",
    "1) Selection bias: Bias resulting from the way in which observations are selected.\n",
    "\n",
    "\n",
    "2) Data snooping: Extensive hunting through data in search of something interesting.\n",
    "\n",
    "\n",
    "3) Vast search effect: Bias or nonreproducibility resulting from repeated data modeling, or modeling\n",
    "data with large numbers of predictor variables.\n",
    "\n",
    "\n",
    "**Regression to the Mean**\n",
    "\n",
    "Regression to the mean refers to a phenomenon involving successive measurements\n",
    "on a given variable: extreme observations tend to be followed by more central ones.\n",
    "\n",
    "\n",
    "Attaching special focus and meaning to the extreme value can lead to a form of selec‐\n",
    "tion bias."
   ]
  }
 ],
 "metadata": {
  "language_info": {
   "name": "python"
  },
  "orig_nbformat": 4
 },
 "nbformat": 4,
 "nbformat_minor": 2
}
