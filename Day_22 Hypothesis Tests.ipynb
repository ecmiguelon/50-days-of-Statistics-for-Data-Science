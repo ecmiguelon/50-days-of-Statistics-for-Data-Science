{
 "cells": [
  {
   "cell_type": "markdown",
   "metadata": {},
   "source": [
    "**Key Terms:**\n",
    "\n",
    "- Null hypothesis: The hypothesis that chance is to blame.\n",
    "\n",
    "- Alternative hypothesis: Counterpoint to the null (what you hope to prove).\n",
    "\n",
    "- One-way test: Hypothesis test that counts chance results only in one direction.\n",
    "\n",
    "- Two-way test: Hypothesis test that counts chance results in two directions.\n",
    "\n",
    " A null hypothesis is a logical construct embodying the notion that nothing special has happened, and any effect you observe is due to random chance.\n",
    "\n",
    "\n",
    "The hypothesis test assumes that the null hypothesis is true, creates a “null\n",
    "model” (a probability model), and tests whether the effect you observe is a reasonable outcome of that model."
   ]
  },
  {
   "cell_type": "markdown",
   "metadata": {},
   "source": [
    "**Intuition Behind Hypothesis testing:**\n",
    "\n",
    "- In hypothesis testing, there is null hypothesis and alternate hypothesis.\n",
    "- In null hypothesis we have an assumption that we want to prove wrong.\n",
    "- In other words, null hypothesis is the assumption that we know to be true all along. For eg, we might consider that there are 365 days in a year. \n",
    "\n",
    "       number of days in a year  365\n",
    "\n",
    "- Our Alternate hypothesis could be that:\n",
    "\n",
    "       number of days in a year  365"
   ]
  },
  {
   "cell_type": "markdown",
   "metadata": {},
   "source": [
    "**What is One-Way and Two-Way Hypothesis?**\n",
    "\n",
    "One-Way Hypothesis is when we say we are considering the alternate hypthesis to be less than 365 days a year.\n",
    "\n",
    "\n",
    "Two-Way Hypothesis is when we say we are considering the alternate hypothesis to be  365 days a year."
   ]
  }
 ],
 "metadata": {
  "language_info": {
   "name": "python"
  },
  "orig_nbformat": 4
 },
 "nbformat": 4,
 "nbformat_minor": 2
}
