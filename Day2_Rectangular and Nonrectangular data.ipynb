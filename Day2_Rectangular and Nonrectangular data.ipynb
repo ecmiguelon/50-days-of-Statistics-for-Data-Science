{
 "cells": [
  {
   "cell_type": "markdown",
   "metadata": {},
   "source": [
    "#Rectangular data\n",
    "\n",
    "---\n",
    "\n",
    "###Rectangular data is a two-dimensional matrix with rows denoting records (cases) and columns showing features (variables); data frame is the R and Python particular format. Unstructured data (such as text) must be handled and altered before being represented as a set of features in rectangular data. Rectangular data (like a spreadsheet) is the basic data structure for statistical and machine learning models.\n",
    "\n",
    "---\n",
    "\n",
    "####Key terms for rectangular data\n",
    "\n",
    "\n",
    "*   Data frame - Rectangular data (like a spreadsheet) is the basic data structure for statistical and\n",
    "machine learning models.\n",
    "*   Feature - A column within a table is commonly referred to as a feature."
   ]
  },
  {
   "cell_type": "code",
   "execution_count": 2,
   "metadata": {},
   "outputs": [
    {
     "name": "stdout",
     "output_type": "stream",
     "text": [
      "Requirement already satisfied: Faker in c:\\users\\komal.lamba\\.conda\\envs\\ds\\lib\\site-packages (11.1.0)\n",
      "Requirement already satisfied: text-unidecode==1.3 in c:\\users\\komal.lamba\\.conda\\envs\\ds\\lib\\site-packages (from Faker) (1.3)\n",
      "Requirement already satisfied: python-dateutil>=2.4 in c:\\users\\komal.lamba\\.conda\\envs\\ds\\lib\\site-packages (from Faker) (2.8.2)\n",
      "Requirement already satisfied: six>=1.5 in c:\\users\\komal.lamba\\.conda\\envs\\ds\\lib\\site-packages (from python-dateutil>=2.4->Faker) (1.15.0)\n"
     ]
    }
   ],
   "source": [
    "!pip install Faker"
   ]
  },
  {
   "cell_type": "code",
   "execution_count": 12,
   "metadata": {},
   "outputs": [],
   "source": [
    "#importing libraries\n",
    "import pandas as pd\n",
    "import numpy as np\n",
    "import matplotlib.pyplot as plt\n",
    "import random\n"
   ]
  },
  {
   "cell_type": "code",
   "execution_count": 21,
   "metadata": {},
   "outputs": [
    {
     "data": {
      "text/html": [
       "<div>\n",
       "<style scoped>\n",
       "    .dataframe tbody tr th:only-of-type {\n",
       "        vertical-align: middle;\n",
       "    }\n",
       "\n",
       "    .dataframe tbody tr th {\n",
       "        vertical-align: top;\n",
       "    }\n",
       "\n",
       "    .dataframe thead th {\n",
       "        text-align: right;\n",
       "    }\n",
       "</style>\n",
       "<table border=\"1\" class=\"dataframe\">\n",
       "  <thead>\n",
       "    <tr style=\"text-align: right;\">\n",
       "      <th></th>\n",
       "      <th>name</th>\n",
       "      <th>email</th>\n",
       "      <th>address</th>\n",
       "      <th>phone</th>\n",
       "    </tr>\n",
       "  </thead>\n",
       "  <tbody>\n",
       "    <tr>\n",
       "      <th>0</th>\n",
       "      <td>Eric Pitts</td>\n",
       "      <td>juliaclark@example.com</td>\n",
       "      <td>918 Joseph Springs Apt. 210\\nEast Georgefurt, ...</td>\n",
       "      <td>7309581865</td>\n",
       "    </tr>\n",
       "    <tr>\n",
       "      <th>1</th>\n",
       "      <td>Justin Serrano</td>\n",
       "      <td>pcardenas@example.com</td>\n",
       "      <td>5924 Morgan Union Suite 001\\nPort Andrew, MO 7...</td>\n",
       "      <td>(812)888-6104x3209</td>\n",
       "    </tr>\n",
       "    <tr>\n",
       "      <th>2</th>\n",
       "      <td>Heather Kelley</td>\n",
       "      <td>sschmitt@example.com</td>\n",
       "      <td>3830 Gallegos Radial\\nWest Leahshire, IA 21606</td>\n",
       "      <td>803-876-2471</td>\n",
       "    </tr>\n",
       "    <tr>\n",
       "      <th>3</th>\n",
       "      <td>Dawn Washington</td>\n",
       "      <td>danielmanning@example.org</td>\n",
       "      <td>17218 Corey Fords\\nMannmouth, DC 61687</td>\n",
       "      <td>(445)859-8869x00704</td>\n",
       "    </tr>\n",
       "    <tr>\n",
       "      <th>4</th>\n",
       "      <td>Max Kelley</td>\n",
       "      <td>sharonsexton@example.com</td>\n",
       "      <td>9807 Keith Pike Apt. 895\\nNorth Jennifer, MN 1...</td>\n",
       "      <td>+1-735-268-1450x74192</td>\n",
       "    </tr>\n",
       "  </tbody>\n",
       "</table>\n",
       "</div>"
      ],
      "text/plain": [
       "              name                      email  \\\n",
       "0       Eric Pitts     juliaclark@example.com   \n",
       "1   Justin Serrano      pcardenas@example.com   \n",
       "2   Heather Kelley       sschmitt@example.com   \n",
       "3  Dawn Washington  danielmanning@example.org   \n",
       "4       Max Kelley   sharonsexton@example.com   \n",
       "\n",
       "                                             address                  phone  \n",
       "0  918 Joseph Springs Apt. 210\\nEast Georgefurt, ...             7309581865  \n",
       "1  5924 Morgan Union Suite 001\\nPort Andrew, MO 7...     (812)888-6104x3209  \n",
       "2     3830 Gallegos Radial\\nWest Leahshire, IA 21606           803-876-2471  \n",
       "3             17218 Corey Fords\\nMannmouth, DC 61687    (445)859-8869x00704  \n",
       "4  9807 Keith Pike Apt. 895\\nNorth Jennifer, MN 1...  +1-735-268-1450x74192  "
      ]
     },
     "execution_count": 21,
     "metadata": {},
     "output_type": "execute_result"
    }
   ],
   "source": [
    "#import faker library to generate fake data and create a dataframe\n",
    "\n",
    "from faker import Faker\n",
    "fake = Faker()\n",
    "\n",
    "for i in range(10):\n",
    "    d1 = pd.DataFrame(columns=('name', 'email', 'address', 'phone'))\n",
    "for i in range(10):\n",
    "    d1.loc[i] = [fake.name(), fake.email(), fake.address(), fake.phone_number()]\n",
    "d1.head()\n"
   ]
  },
  {
   "cell_type": "markdown",
   "metadata": {},
   "source": [
    "#Non-rectangular data structures\n",
    "\n",
    "##There are other data structures besides rectangular data. Time series data records successive measurements of the same variable. It is the raw material for statistical forecasting methods, and it is also a key component of the data produced by devices—the Internet of Things."
   ]
  }
 ],
 "metadata": {
  "interpreter": {
   "hash": "eb303bda2d532bd4ce610807288500639c8702ae3abc46da76342385bfb32498"
  },
  "kernelspec": {
   "display_name": "Python 3.8.8 64-bit ('ds': conda)",
   "language": "python",
   "name": "python3"
  },
  "language_info": {
   "codemirror_mode": {
    "name": "ipython",
    "version": 3
   },
   "file_extension": ".py",
   "mimetype": "text/x-python",
   "name": "python",
   "nbconvert_exporter": "python",
   "pygments_lexer": "ipython3",
   "version": "3.8.8"
  },
  "orig_nbformat": 4
 },
 "nbformat": 4,
 "nbformat_minor": 2
}
